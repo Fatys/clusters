{
 "cells": [
  {
   "cell_type": "code",
   "execution_count": null,
   "metadata": {
    "collapsed": true
   },
   "outputs": [],
   "source": [
    "%matplotlib inline\n",
    "import os, sys\n",
    "import numpy as np\n",
    "import struct\n",
    "from matplotlib import pyplot as plt\n",
    "#from ipywidgets import widgets\n",
    "from ipywidgets import interact, interactive, fixed\n",
    "#from IPython.display import display, clear_output"
   ]
  },
  {
   "cell_type": "code",
   "execution_count": null,
   "metadata": {
    "collapsed": true
   },
   "outputs": [],
   "source": [
    "def load_outs(filename):\n",
    "    data = []\n",
    "    with open(filename, 'r') as fin:\n",
    "        for line in fin:\n",
    "            row = line.split()\n",
    "            ast1_id = str(row[0])\n",
    "            ast2_id = str(row[1])\n",
    "            t = float(row[2])\n",
    "            dist = float(row[3])\n",
    "            vel = float(row[4])\n",
    "\n",
    "            data.append([t, dist, vel, ast1_id, ast2_id])\n",
    "    return data\n",
    "\n",
    "\n",
    "def histogram(data=None,d_max=10000, v_max=5, c='b'):\n",
    "    hills_rad = 1859\n",
    "    v_esc = 5.2\n",
    "    # c = 'b'\n",
    "    bins = range(0, 1010, 10)\n",
    "\n",
    "    x = []\n",
    "    for point in data:\n",
    "        if (point[1] < d_max) and (point[2] < v_max):\n",
    "            x.append((point[0] * 1000))\n",
    "    ast_id = data[0][3].split('_')[0] + ' - ' + data[0][4].split('_')[0] + ' (%i)' % len(x)\n",
    "    print('(%i points plotted)' % len(x))\n",
    "    \n",
    "    plt.figure(figsize=(10, 6))\n",
    "    plt.hist(x, bins=bins, color=c, label= '' + ast_id)\n",
    "    \n",
    "    #title = \"ast. %s: Hill's rad = %i km, Escape vel. = %.1f m/s\\n\" % (data[0][3].split('_')[0], hills_rad, v_esc)\n",
    "    title = 'Number of orbital clones with rel. distance < %i km and with rel. velocity < %.1f m/s' % (d_max, v_max)\n",
    "    plt.title(title)\n",
    "    plt.xlabel('t [kyr]')\n",
    "    plt.xlim(0, max(bins))\n",
    "    plt.ylabel('Number of orbital clones')\n",
    "    plt.legend()\n",
    "    plt.show()\n"
   ]
  }
 ],
 "metadata": {
  "kernelspec": {
   "display_name": "Python 3",
   "language": "python",
   "name": "python3"
  },
  "language_info": {
   "codemirror_mode": {
    "name": "ipython",
    "version": 3
   },
   "file_extension": ".py",
   "mimetype": "text/x-python",
   "name": "python",
   "nbconvert_exporter": "python",
   "pygments_lexer": "ipython3",
   "version": "3.5.2"
  }
 },
 "nbformat": 4,
 "nbformat_minor": 1
}
